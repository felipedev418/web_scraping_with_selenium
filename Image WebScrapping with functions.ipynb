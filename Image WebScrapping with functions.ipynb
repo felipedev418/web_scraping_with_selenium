{
 "cells": [
  {
   "cell_type": "markdown",
   "metadata": {},
   "source": [
    "# Step1. Import all required libraries"
   ]
  },
  {
   "cell_type": "code",
   "execution_count": 2,
   "metadata": {},
   "outputs": [],
   "source": [
    "import os\n",
    "import selenium\n",
    "from selenium import webdriver\n",
    "import time\n",
    "from PIL import Image\n",
    "import io\n",
    "import requests\n",
    "from webdriver_manager.chrome import ChromeDriverManager\n"
   ]
  },
  {
   "cell_type": "code",
   "execution_count": 3,
   "metadata": {},
   "outputs": [],
   "source": [
    "os.chdir('C:/Qurantine/Blog/WebScrapping')"
   ]
  },
  {
   "cell_type": "markdown",
   "metadata": {},
   "source": [
    "# Step2. Install Chrome Driver"
   ]
  },
  {
   "cell_type": "code",
   "execution_count": 4,
   "metadata": {},
   "outputs": [
    {
     "name": "stderr",
     "output_type": "stream",
     "text": [
      "[WDM] - Current google-chrome version is 84.0.4147\n",
      "[WDM] - Get LATEST driver version for 84.0.4147\n"
     ]
    },
    {
     "name": "stdout",
     "output_type": "stream",
     "text": [
      " \n"
     ]
    },
    {
     "name": "stderr",
     "output_type": "stream",
     "text": [
      "[WDM] - Driver [C:\\Users\\panwla\\.wdm\\drivers\\chromedriver\\win32\\84.0.4147.30\\chromedriver.exe] found in cache\n"
     ]
    }
   ],
   "source": [
    "#Install driver\n",
    "opts=webdriver.ChromeOptions()\n",
    "opts.headless=True\n",
    "\n",
    "driver = webdriver.Chrome(ChromeDriverManager().install() ,options=opts)\n"
   ]
  },
  {
   "cell_type": "markdown",
   "metadata": {},
   "source": [
    "# Step3. Specify seach URL"
   ]
  },
  {
   "cell_type": "code",
   "execution_count": null,
   "metadata": {},
   "outputs": [],
   "source": [
    "search_url = \"https://www.google.com/search?q={q}&tbm=isch&tbs=sur%3Afc&hl=en&ved=0CAIQpwVqFwoTCKCa1c6s4-oCFQAAAAAdAAAAABAC&biw=1251&bih=568\"\n",
    "driver.get(search_url.format(q='Car'))"
   ]
  },
  {
   "cell_type": "markdown",
   "metadata": {},
   "source": [
    "# Step4.  Write a function to take cursor to end of the page"
   ]
  },
  {
   "cell_type": "code",
   "execution_count": 4,
   "metadata": {},
   "outputs": [],
   "source": [
    "def scroll_to_end(driver):\n",
    "    driver.execute_script(\"window.scrollTo(0, document.body.scrollHeight);\")\n",
    "    time.sleep(5)#sleep_between_interactions   \n",
    "        "
   ]
  },
  {
   "cell_type": "markdown",
   "metadata": {},
   "source": [
    "# Step5. Write a function to get url of each Image"
   ]
  },
  {
   "cell_type": "code",
   "execution_count": 5,
   "metadata": {},
   "outputs": [],
   "source": [
    "#no license issues\n",
    "\n",
    "def getImageUrls(name,totalImgs,driver):\n",
    "    \n",
    "    search_url = \"https://www.google.com/search?q={q}&tbm=isch&tbs=sur%3Afc&hl=en&ved=0CAIQpwVqFwoTCKCa1c6s4-oCFQAAAAAdAAAAABAC&biw=1251&bih=568\"\n",
    "    driver.get(search_url.format(q=name))\n",
    "\n",
    "    img_urls = set()\n",
    "    img_count = 0\n",
    "    results_start = 0  \n",
    "    \n",
    "    while(img_count<totalImgs): #Extract actual images now\n",
    "        \n",
    "        scroll_to_end(driver)\n",
    "        \n",
    "        thumbnail_results = driver.find_elements_by_xpath(\"//img[contains(@class,'Q4LuWd')]\")\n",
    "        totalResults=len(thumbnail_results)\n",
    "        print(f\"Found: {totalResults} search results. Extracting links from {results_start}:{totalResults}\")\n",
    "        \n",
    "        for img in thumbnail_results[results_start:totalResults]:\n",
    "            \n",
    "            img.click()\n",
    "            time.sleep(2)\n",
    "            actual_images = driver.find_elements_by_css_selector('img.n3VNCb')\n",
    "            for actual_image in actual_images:\n",
    "                if actual_image.get_attribute('src') and 'https' in actual_image.get_attribute('src'):\n",
    "                    img_urls.add(actual_image.get_attribute('src'))\n",
    "            \n",
    "            img_count=len(img_urls)\n",
    "            \n",
    "            if img_count >= totalImgs:\n",
    "                print(f\"Found: {img_count} image links\")\n",
    "                break\n",
    "            else:\n",
    "                print(\"Found:\", img_count, \"looking for more image links ...\")                \n",
    "                load_more_button = driver.find_element_by_css_selector(\".mye4qd\")\n",
    "                driver.execute_script(\"document.querySelector('.mye4qd').click();\")\n",
    "                results_start = len(thumbnail_results)\n",
    "    return img_urls\n",
    "        "
   ]
  },
  {
   "cell_type": "markdown",
   "metadata": {},
   "source": [
    "# Step6. Write a function to download each Image"
   ]
  },
  {
   "cell_type": "code",
   "execution_count": 6,
   "metadata": {},
   "outputs": [],
   "source": [
    "\n",
    "def downloadImages(folder_path,file_name,url):\n",
    "    try:\n",
    "        image_content = requests.get(url).content\n",
    "\n",
    "    except Exception as e:\n",
    "        print(f\"ERROR - COULD NOT DOWNLOAD {url} - {e}\")\n",
    "\n",
    "    try:\n",
    "        image_file = io.BytesIO(image_content)\n",
    "        image = Image.open(image_file).convert('RGB')\n",
    "        \n",
    "        file_path = os.path.join(folder_path, file_name)\n",
    "        \n",
    "        with open(file_path, 'wb') as f:\n",
    "            image.save(f, \"JPEG\", quality=85)\n",
    "        print(f\"SAVED - {url} - AT: {file_path}\")\n",
    "    except Exception as e:\n",
    "        print(f\"ERROR - COULD NOT SAVE {url} - {e}\")"
   ]
  },
  {
   "cell_type": "markdown",
   "metadata": {},
   "source": [
    "# Step7. Write a function to save each Image in Destination directory"
   ]
  },
  {
   "cell_type": "code",
   "execution_count": 8,
   "metadata": {
    "scrolled": true
   },
   "outputs": [
    {
     "name": "stdout",
     "output_type": "stream",
     "text": [
      "Current Path ./covid/Car\n",
      "Found: 100 search results. Extracting links from 0:100\n",
      "Found: 0 looking for more image links ...\n",
      "Found: 1 looking for more image links ...\n",
      "Found: 2 looking for more image links ...\n",
      "Found: 3 looking for more image links ...\n",
      "Found: 4 looking for more image links ...\n",
      "Found: 5 image links\n",
      "totalLinks {'https://cdn.pixabay.com/photo/2019/12/31/20/58/car-4732653_960_720.png', 'https://upload.wikimedia.org/wikipedia/en/2/2d/Front_left_of_car.jpg', 'https://upload.wikimedia.org/wikipedia/commons/e/e4/Car_crash_2.jpg', 'https://p1.piqsels.com/preview/191/733/313/car-concept-vehicle-auto-speed-transportation.jpg', 'https://www.publicdomainpictures.net/pictures/180000/velka/fast-sport-car-1466168715EF7.jpg'}\n",
      "SAVED - https://cdn.pixabay.com/photo/2019/12/31/20/58/car-4732653_960_720.png - AT: ./covid/Car\\                                                                                                                                                     0.jpg\n",
      "SAVED - https://upload.wikimedia.org/wikipedia/en/2/2d/Front_left_of_car.jpg - AT: ./covid/Car\\                                                                                                                                                     1.jpg\n",
      "SAVED - https://upload.wikimedia.org/wikipedia/commons/e/e4/Car_crash_2.jpg - AT: ./covid/Car\\                                                                                                                                                     2.jpg\n",
      "SAVED - https://p1.piqsels.com/preview/191/733/313/car-concept-vehicle-auto-speed-transportation.jpg - AT: ./covid/Car\\                                                                                                                                                     3.jpg\n",
      "ERROR - COULD NOT SAVE https://www.publicdomainpictures.net/pictures/180000/velka/fast-sport-car-1466168715EF7.jpg - cannot identify image file <_io.BytesIO object at 0x000001CA0F38BBE8>\n",
      "Current Path ./covid/horses\n",
      "Found: 100 search results. Extracting links from 0:100\n",
      "Found: 1 looking for more image links ...\n",
      "Found: 2 looking for more image links ...\n",
      "Found: 3 looking for more image links ...\n",
      "Found: 4 looking for more image links ...\n",
      "Found: 5 image links\n",
      "totalLinks {'https://cdn.pixabay.com/photo/2020/06/10/05/09/horses-5281158_960_720.jpg', 'https://cdn.pixabay.com/photo/2020/05/11/09/55/horse-5157314_960_720.jpg', 'https://upload.wikimedia.org/wikipedia/commons/8/85/Points_of_a_horse.jpg', 'https://www.publicdomainpictures.net/pictures/300000/velka/white-horse-with-brown-horses.jpg', 'https://www.nps.gov/articles/images/feral-horse.jpg?maxwidth=1200&maxheight=1200&autorotate=false'}\n",
      "SAVED - https://cdn.pixabay.com/photo/2020/06/10/05/09/horses-5281158_960_720.jpg - AT: ./covid/horses\\                                                                                                                                                     0.jpg\n",
      "SAVED - https://cdn.pixabay.com/photo/2020/05/11/09/55/horse-5157314_960_720.jpg - AT: ./covid/horses\\                                                                                                                                                     1.jpg\n",
      "SAVED - https://upload.wikimedia.org/wikipedia/commons/8/85/Points_of_a_horse.jpg - AT: ./covid/horses\\                                                                                                                                                     2.jpg\n",
      "ERROR - COULD NOT SAVE https://www.publicdomainpictures.net/pictures/300000/velka/white-horse-with-brown-horses.jpg - cannot identify image file <_io.BytesIO object at 0x000001CA0F4394C8>\n",
      "SAVED - https://www.nps.gov/articles/images/feral-horse.jpg?maxwidth=1200&maxheight=1200&autorotate=false - AT: ./covid/horses\\                                                                                                                                                     4.jpg\n"
     ]
    }
   ],
   "source": [
    "\n",
    "def saveInDestFolder(searchNames,destDir,totalImgs,driver):\n",
    "    for name in list(searchNames):\n",
    "        path=os.path.join(destDir,name)\n",
    "        if not os.path.isdir(path):\n",
    "            os.mkdir(path)\n",
    "        print('Current Path',path)\n",
    "        totalLinks=getImageUrls(name,totalImgs,driver)\n",
    "        print('totalLinks',totalLinks)\n",
    "\n",
    "        if totalLinks is None:\n",
    "            print('images not found for :',name)\n",
    "            continue\n",
    "        else:\n",
    "            for i, link in enumerate(totalLinks):\n",
    "                file_name = f\"{i:150}.jpg\"\n",
    "                downloadImages(path,file_name,link)\n",
    "            \n",
    "searchNames=['Car','horses'] \n",
    "destDir=f'./Dataset2/'\n",
    "totalImgs=5\n",
    "\n",
    "saveInDestFolder(searchNames,destDir,totalImgs,driver)\n",
    "\n",
    "\n",
    "\n"
   ]
  },
  {
   "cell_type": "code",
   "execution_count": null,
   "metadata": {},
   "outputs": [],
   "source": []
  }
 ],
 "metadata": {
  "kernelspec": {
   "display_name": "Python 3",
   "language": "python",
   "name": "python3"
  },
  "language_info": {
   "codemirror_mode": {
    "name": "ipython",
    "version": 3
   },
   "file_extension": ".py",
   "mimetype": "text/x-python",
   "name": "python",
   "nbconvert_exporter": "python",
   "pygments_lexer": "ipython3",
   "version": "3.7.6"
  }
 },
 "nbformat": 4,
 "nbformat_minor": 4
}
