{
 "cells": [
  {
   "cell_type": "markdown",
   "metadata": {},
   "source": [
    "#            Implementation of Image Web Scraping using Selenium Python"
   ]
  },
  {
   "cell_type": "markdown",
   "metadata": {},
   "source": [
    "# Step1. Import all required libraries"
   ]
  },
  {
   "cell_type": "code",
   "execution_count": 19,
   "metadata": {},
   "outputs": [],
   "source": [
    "#Import libraries\n",
    "import os\n",
    "import selenium\n",
    "from selenium import webdriver\n",
    "import time\n",
    "from PIL import Image\n",
    "import io\n",
    "import requests\n",
    "from webdriver_manager.chrome import ChromeDriverManager\n",
    "from selenium.common.exceptions import ElementClickInterceptedException"
   ]
  },
  {
   "cell_type": "markdown",
   "metadata": {},
   "source": [
    "# Step2. Install Chrome Driver"
   ]
  },
  {
   "cell_type": "code",
   "execution_count": 20,
   "metadata": {},
   "outputs": [
    {
     "name": "stderr",
     "output_type": "stream",
     "text": [
      "[WDM] - Current google-chrome version is 84.0.4147\n",
      "[WDM] - Get LATEST driver version for 84.0.4147\n"
     ]
    },
    {
     "name": "stdout",
     "output_type": "stream",
     "text": [
      " \n"
     ]
    },
    {
     "name": "stderr",
     "output_type": "stream",
     "text": [
      "[WDM] - Driver [C:\\Users\\panwla\\.wdm\\drivers\\chromedriver\\win32\\84.0.4147.30\\chromedriver.exe] found in cache\n"
     ]
    }
   ],
   "source": [
    "#Install Driver\n",
    "driver = webdriver.Chrome(ChromeDriverManager().install())"
   ]
  },
  {
   "cell_type": "markdown",
   "metadata": {},
   "source": [
    "# Step3. Specify Search url"
   ]
  },
  {
   "cell_type": "code",
   "execution_count": 21,
   "metadata": {},
   "outputs": [],
   "source": [
    "#Specify Search URL\n",
    "search_url = \"https://www.google.com/search?q={q}&tbm=isch&tbs=sur%3Afc&hl=en&ved=0CAIQpwVqFwoTCKCa1c6s4-oCFQAAAAAdAAAAABAC&biw=1251&bih=568\"\n",
    "driver.get(search_url.format(q='Car'))"
   ]
  },
  {
   "cell_type": "markdown",
   "metadata": {},
   "source": [
    " - I've used this specific URL so you don't get in trouble for using licensed or images with copyrights. Otherwise you can use https://google.com also as search URL .\n",
    " - Then we're searching for Car in our Search URL.\n",
    "\n",
    "### Paste the link into to driver.get(“ Your Link Here ”) function and run the cell. This will open a new browser window for that link. \n"
   ]
  },
  {
   "cell_type": "markdown",
   "metadata": {},
   "source": [
    "# Step4. Scroll to the end of the page"
   ]
  },
  {
   "cell_type": "code",
   "execution_count": 22,
   "metadata": {},
   "outputs": [],
   "source": [
    "#Scroll to the end of the page\n",
    "driver.execute_script(\"window.scrollTo(0, document.body.scrollHeight);\")\n",
    "time.sleep(5)#sleep_between_interactions  \n"
   ]
  },
  {
   "cell_type": "markdown",
   "metadata": {},
   "source": [
    "#### The above line of code would help us to reach the end of the page . And then we're giving sleep time of 5 seconds so we don't run in problem , where we're trying to read elements from page , which is not yet loaded."
   ]
  },
  {
   "cell_type": "markdown",
   "metadata": {},
   "source": [
    "# Step5. Locate the images to be scraped from the page"
   ]
  },
  {
   "cell_type": "code",
   "execution_count": 23,
   "metadata": {},
   "outputs": [],
   "source": [
    "#Locate the images to be scraped from the current page\n",
    "imgResults = driver.find_elements_by_xpath(\"//img[contains(@class,'Q4LuWd')]\")\n",
    "totalResults=len(imgResults)"
   ]
  },
  {
   "cell_type": "markdown",
   "metadata": {},
   "source": [
    "### Now we'll fetch all the image links present on that particular page. We will create a “list” to store those links.\n",
    "So, to do that go to the browser window, right-click on the page, and select ‘inspect element’ or enable the dev tools using Ctrl+Shift+I .\n",
    "Now identify any attribute such as class , id etc. Which is common across all these images.\n",
    "\n",
    "In our case class =\"'Q4LuWd\" is common across all these images. \n"
   ]
  },
  {
   "cell_type": "markdown",
   "metadata": {},
   "source": [
    "# Step6. Extract corresponding link of each Image"
   ]
  },
  {
   "cell_type": "code",
   "execution_count": 30,
   "metadata": {},
   "outputs": [
    {
     "name": "stdout",
     "output_type": "stream",
     "text": [
      "Message: element click intercepted: Element <img class=\"rg_i Q4LuWd\" data-src=\"https://encrypted-tbn0.gstatic.com/images?q=tbn%3AANd9GcSepzlJ9-2sry4WY2kfFtCHXw_W3NwsqA0dJg&amp;usqp=CAU\" data-lt=\"\" jsname=\"Q4LuWd\" width=\"225\" height=\"225\" alt=\"Black car profile image | Public domain vectors\" src=\"https://encrypted-tbn0.gstatic.com/images?q=tbn%3AANd9GcSepzlJ9-2sry4WY2kfFtCHXw_W3NwsqA0dJg&amp;usqp=CAU\"> is not clickable at point (135, 480). Other element would receive the click: <div jsname=\"r5xl4\" class=\"islrc\" style=\"width: 551px;\">...</div>\n",
      "  (Session info: chrome=84.0.4147.89)\n",
      "\n",
      "Message: element click intercepted: Element <img class=\"rg_i Q4LuWd\" data-src=\"https://encrypted-tbn0.gstatic.com/images?q=tbn%3AANd9GcR1VKiy0pIwwQtZ-O4k70WxJUNXqYb-xUpAvg&amp;usqp=CAU\" data-lt=\"\" jsname=\"Q4LuWd\" width=\"225\" height=\"225\" alt=\"Red car burning tires | Public domain vectors\" src=\"https://encrypted-tbn0.gstatic.com/images?q=tbn%3AANd9GcR1VKiy0pIwwQtZ-O4k70WxJUNXqYb-xUpAvg&amp;usqp=CAU\"> is not clickable at point (147, 480). Other element would receive the click: <div jsname=\"r5xl4\" class=\"islrc\" style=\"width: 551px;\">...</div>\n",
      "  (Session info: chrome=84.0.4147.89)\n",
      "\n"
     ]
    }
   ],
   "source": [
    "#Click on each Image to extract its corresponding link to download\n",
    "\n",
    "img_urls = set()\n",
    "for i in  range(0,len(imgResults)):\n",
    "    img=imgResults[i]\n",
    "    try:\n",
    "        img.click()\n",
    "        time.sleep(2)\n",
    "        actual_images = driver.find_elements_by_css_selector('img.n3VNCb')\n",
    "        for actual_image in actual_images:\n",
    "            if actual_image.get_attribute('src') and 'https' in actual_image.get_attribute('src'):\n",
    "                img_urls.add(actual_image.get_attribute('src'))\n",
    "    except ElementClickInterceptedException or ElementNotInteractableException as err:\n",
    "        print(err)"
   ]
  },
  {
   "cell_type": "markdown",
   "metadata": {},
   "source": [
    "\n",
    "So in the above snippet of code , we're performing following tasks\n",
    "   - Iterate through each thumbnail and then on click it .\n",
    "   - Make our browser sleep for 2 seconds (:P) .\n",
    "   - Find the unique html tag corresponding to that image to locate it on page\n",
    "   - We still get more than one result for particular image .  But all we're interested in the link for that image to download.\n",
    "\n",
    "So we iterate through each result for that image and extract 'src' attribute of it and then see whether \"https\" is present in the 'src'  or not. Since typically web link starts with 'https'."
   ]
  },
  {
   "cell_type": "markdown",
   "metadata": {},
   "source": [
    "# Step7. Download & save each image in Destination directory"
   ]
  },
  {
   "cell_type": "code",
   "execution_count": 33,
   "metadata": {},
   "outputs": [
    {
     "name": "stdout",
     "output_type": "stream",
     "text": [
      "SAVED - https://p0.pikist.com/photos/355/614/car-old-car-street-city-travel-wallpaper.jpg - AT: C:\\Qurantine\\Blog\\WebScrapping\\Data\\                                                                                                                                                     0.jpg\n",
      "SAVED - https://cdn.pixabay.com/photo/2020/01/28/20/28/car-4800932_960_720.png - AT: C:\\Qurantine\\Blog\\WebScrapping\\Data\\                                                                                                                                                     1.jpg\n",
      "SAVED - https://upload.wikimedia.org/wikipedia/commons/e/e4/Car_crash_2.jpg - AT: C:\\Qurantine\\Blog\\WebScrapping\\Data\\                                                                                                                                                     2.jpg\n",
      "SAVED - https://encrypted-tbn0.gstatic.com/images?q=tbn%3AANd9GcRr3OeUWJGHuhlfUWY2dlBCWTbs6hzoJTAZMw&usqp=CAU - AT: C:\\Qurantine\\Blog\\WebScrapping\\Data\\                                                                                                                                                     3.jpg\n",
      "SAVED - https://encrypted-tbn0.gstatic.com/images?q=tbn%3AANd9GcTGWgyYos6zH7Ng2yZkzjpRxBYNv-QOri3edg&usqp=CAU - AT: C:\\Qurantine\\Blog\\WebScrapping\\Data\\                                                                                                                                                     4.jpg\n",
      "SAVED - https://p0.pikrepo.com/preview/642/199/front-view-of-a-black-sports-car-with-round-head-lights.jpg - AT: C:\\Qurantine\\Blog\\WebScrapping\\Data\\                                                                                                                                                     5.jpg\n",
      "SAVED - https://encrypted-tbn0.gstatic.com/images?q=tbn%3AANd9GcT36sfclyvjNc1nLNfnUOXapZgwpKSPdW7oDg&usqp=CAU - AT: C:\\Qurantine\\Blog\\WebScrapping\\Data\\                                                                                                                                                     6.jpg\n",
      "SAVED - https://upload.wikimedia.org/wikipedia/commons/b/bd/The_car_used_by_Dr._Babasaheb_Ambedkar_01.jpg - AT: C:\\Qurantine\\Blog\\WebScrapping\\Data\\                                                                                                                                                     7.jpg\n",
      "SAVED - https://encrypted-tbn0.gstatic.com/images?q=tbn%3AANd9GcRl_SKQ7NtDYri01iKsOPeb1ox09lWpDdy-kQ&usqp=CAU - AT: C:\\Qurantine\\Blog\\WebScrapping\\Data\\                                                                                                                                                     8.jpg\n",
      "SAVED - https://encrypted-tbn0.gstatic.com/images?q=tbn%3AANd9GcRsv7B9-8_RugFfVBYONDlCVoNPtCexoros8A&usqp=CAU - AT: C:\\Qurantine\\Blog\\WebScrapping\\Data\\                                                                                                                                                     9.jpg\n",
      "SAVED - https://encrypted-tbn0.gstatic.com/images?q=tbn%3AANd9GcQjE2XxnLWbAAtW6-DoOajxidfUQoivMYlF3g&usqp=CAU - AT: C:\\Qurantine\\Blog\\WebScrapping\\Data\\                                                                                                                                                    10.jpg\n",
      "SAVED - https://p1.pxfuel.com/preview/527/212/878/bmw-automobiles-sports-car-car.jpg - AT: C:\\Qurantine\\Blog\\WebScrapping\\Data\\                                                                                                                                                    11.jpg\n",
      "SAVED - https://encrypted-tbn0.gstatic.com/images?q=tbn%3AANd9GcSepzlJ9-2sry4WY2kfFtCHXw_W3NwsqA0dJg&usqp=CAU - AT: C:\\Qurantine\\Blog\\WebScrapping\\Data\\                                                                                                                                                    12.jpg\n",
      "SAVED - https://encrypted-tbn0.gstatic.com/images?q=tbn%3AANd9GcQlOXS3fzJ55QB3KwS-xARCav00g35LDdnBCQ&usqp=CAU - AT: C:\\Qurantine\\Blog\\WebScrapping\\Data\\                                                                                                                                                    13.jpg\n",
      "SAVED - https://libreshot.com/wp-content/uploads/2016/05/old-red-veteran-car-close-upp-2.jpg - AT: C:\\Qurantine\\Blog\\WebScrapping\\Data\\                                                                                                                                                    14.jpg\n",
      "SAVED - https://encrypted-tbn0.gstatic.com/images?q=tbn%3AANd9GcTDVE81p8EJ9DZgyF2UN79WxTLHkjzCOY1r2g&usqp=CAU - AT: C:\\Qurantine\\Blog\\WebScrapping\\Data\\                                                                                                                                                    15.jpg\n",
      "SAVED - https://live.staticflickr.com/65535/48624381123_db6160dfea_b.jpg - AT: C:\\Qurantine\\Blog\\WebScrapping\\Data\\                                                                                                                                                    16.jpg\n",
      "SAVED - https://encrypted-tbn0.gstatic.com/images?q=tbn%3AANd9GcQkqw7vWs5GTtFh_Kh2vm-1Mjesi6Ie1CRqZg&usqp=CAU - AT: C:\\Qurantine\\Blog\\WebScrapping\\Data\\                                                                                                                                                    17.jpg\n",
      "SAVED - https://encrypted-tbn0.gstatic.com/images?q=tbn%3AANd9GcTO0-khtYh7ER-vGcfV7GAGT0CF6F3O5a60pA&usqp=CAU - AT: C:\\Qurantine\\Blog\\WebScrapping\\Data\\                                                                                                                                                    18.jpg\n",
      "SAVED - https://encrypted-tbn0.gstatic.com/images?q=tbn%3AANd9GcRYBiK6Q3aFxhpCacvP7nwJVKnbA2LZYFskIw&usqp=CAU - AT: C:\\Qurantine\\Blog\\WebScrapping\\Data\\                                                                                                                                                    19.jpg\n",
      "SAVED - https://c0.wallpaperflare.com/preview/1002/1002/480/car-concept-vehicle-auto.jpg - AT: C:\\Qurantine\\Blog\\WebScrapping\\Data\\                                                                                                                                                    20.jpg\n",
      "SAVED - https://storage.needpix.com/rsynced_images/remote-control-toy-car.jpg - AT: C:\\Qurantine\\Blog\\WebScrapping\\Data\\                                                                                                                                                    21.jpg\n",
      "SAVED - https://freesvg.org/img/SmallCar-v4.png - AT: C:\\Qurantine\\Blog\\WebScrapping\\Data\\                                                                                                                                                    22.jpg\n",
      "SAVED - https://encrypted-tbn0.gstatic.com/images?q=tbn%3AANd9GcQsrNOMj41_-HKTfQ0NQ24rLepnyHQnDTzHqA&usqp=CAU - AT: C:\\Qurantine\\Blog\\WebScrapping\\Data\\                                                                                                                                                    23.jpg\n",
      "SAVED - https://encrypted-tbn0.gstatic.com/images?q=tbn%3AANd9GcRXbNZ8gT4kgX9ao7wezfbyM4Gq7_29L67LEw&usqp=CAU - AT: C:\\Qurantine\\Blog\\WebScrapping\\Data\\                                                                                                                                                    24.jpg\n",
      "SAVED - https://c1.wallpaperflare.com/preview/496/761/230/car-vehicle-parked-garage.jpg - AT: C:\\Qurantine\\Blog\\WebScrapping\\Data\\                                                                                                                                                    25.jpg\n",
      "SAVED - https://encrypted-tbn0.gstatic.com/images?q=tbn%3AANd9GcS4zaEDYKWpRwO4SDzesLsTs6cEZUW0Owi6Pw&usqp=CAU - AT: C:\\Qurantine\\Blog\\WebScrapping\\Data\\                                                                                                                                                    26.jpg\n",
      "SAVED - https://encrypted-tbn0.gstatic.com/images?q=tbn%3AANd9GcRhOEw68Ar8wbLupThaLKlYmBd86ibuQkuwiA&usqp=CAU - AT: C:\\Qurantine\\Blog\\WebScrapping\\Data\\                                                                                                                                                    27.jpg\n",
      "SAVED - https://encrypted-tbn0.gstatic.com/images?q=tbn%3AANd9GcT5MWIJBLraUjKqplSbJXWCPPBzNiAMQyeyjg&usqp=CAU - AT: C:\\Qurantine\\Blog\\WebScrapping\\Data\\                                                                                                                                                    28.jpg\n",
      "SAVED - https://c1.peakpx.com/wallpaper/766/724/839/smart-car-car-smart-vehicle-wallpaper-preview.jpg - AT: C:\\Qurantine\\Blog\\WebScrapping\\Data\\                                                                                                                                                    29.jpg\n",
      "SAVED - https://encrypted-tbn0.gstatic.com/images?q=tbn%3AANd9GcTeV6NhSnr0TstAWzlCKHN2DK0hX-PCgeJUWQ&usqp=CAU - AT: C:\\Qurantine\\Blog\\WebScrapping\\Data\\                                                                                                                                                    30.jpg\n",
      "SAVED - https://encrypted-tbn0.gstatic.com/images?q=tbn%3AANd9GcR82GsLGnT6jc_QmZwnsHmsrpZ0I7GAMO9U1g&usqp=CAU - AT: C:\\Qurantine\\Blog\\WebScrapping\\Data\\                                                                                                                                                    31.jpg\n",
      "SAVED - https://encrypted-tbn0.gstatic.com/images?q=tbn%3AANd9GcQSGBs4bkM7VrA2vIiNHLLhFDKMq3dHzZw4uw&usqp=CAU - AT: C:\\Qurantine\\Blog\\WebScrapping\\Data\\                                                                                                                                                    32.jpg\n",
      "SAVED - https://c1.peakpx.com/wallpaper/771/277/268/mercedes-car-transport-auto-motor-wallpaper-preview.jpg - AT: C:\\Qurantine\\Blog\\WebScrapping\\Data\\                                                                                                                                                    33.jpg\n",
      "SAVED - https://encrypted-tbn0.gstatic.com/images?q=tbn%3AANd9GcRrNUW-eMKKvLyK3rELqkojf5IJQepEQJF2hQ&usqp=CAU - AT: C:\\Qurantine\\Blog\\WebScrapping\\Data\\                                                                                                                                                    34.jpg\n",
      "SAVED - https://p1.pxfuel.com/preview/21/572/948/fiat-car-the-vehicle-old-car.jpg - AT: C:\\Qurantine\\Blog\\WebScrapping\\Data\\                                                                                                                                                    35.jpg\n",
      "SAVED - https://p0.pikrepo.com/preview/980/752/green-lamborghini-huracan-on-display-during-car-show.jpg - AT: C:\\Qurantine\\Blog\\WebScrapping\\Data\\                                                                                                                                                    36.jpg\n",
      "SAVED - https://encrypted-tbn0.gstatic.com/images?q=tbn%3AANd9GcRUua6shDs9di3YytEsFxuxE8zcuwB7GvE52g&usqp=CAU - AT: C:\\Qurantine\\Blog\\WebScrapping\\Data\\                                                                                                                                                    37.jpg\n",
      "SAVED - https://encrypted-tbn0.gstatic.com/images?q=tbn%3AANd9GcT1jQ8p_aUPnqg81U8aLyidyV9RWVYw_uR9IQ&usqp=CAU - AT: C:\\Qurantine\\Blog\\WebScrapping\\Data\\                                                                                                                                                    38.jpg\n",
      "SAVED - https://encrypted-tbn0.gstatic.com/images?q=tbn%3AANd9GcTk4uGEoK4GAeaPYkBKDg5aQ98O_tbqzpoEqw&usqp=CAU - AT: C:\\Qurantine\\Blog\\WebScrapping\\Data\\                                                                                                                                                    39.jpg\n",
      "SAVED - https://encrypted-tbn0.gstatic.com/images?q=tbn%3AANd9GcTu2DFDRsjgA0L_hn4kB5uB6rzQkRvN9kVJyw&usqp=CAU - AT: C:\\Qurantine\\Blog\\WebScrapping\\Data\\                                                                                                                                                    40.jpg\n",
      "SAVED - https://encrypted-tbn0.gstatic.com/images?q=tbn%3AANd9GcTU2T594DOkbCgwBwzZE8CGBrjAOnfpIaptbQ&usqp=CAU - AT: C:\\Qurantine\\Blog\\WebScrapping\\Data\\                                                                                                                                                    41.jpg\n",
      "ERROR - COULD NOT SAVE https://svgsilh.com/svg_v2/2386838.svg - cannot identify image file <_io.BytesIO object at 0x000001977534E528>\n",
      "SAVED - https://freesvg.org/img/carsymbol1.png - AT: C:\\Qurantine\\Blog\\WebScrapping\\Data\\                                                                                                                                                    43.jpg\n",
      "SAVED - https://cdn.pixabay.com/photo/2017/07/01/07/39/bmw-2460764_960_720.jpg - AT: C:\\Qurantine\\Blog\\WebScrapping\\Data\\                                                                                                                                                    44.jpg\n",
      "SAVED - https://encrypted-tbn0.gstatic.com/images?q=tbn%3AANd9GcS6qCNmVuW9O2zucWjE3GeBfYruSEkpehsDUA&usqp=CAU - AT: C:\\Qurantine\\Blog\\WebScrapping\\Data\\                                                                                                                                                    45.jpg\n",
      "SAVED - https://encrypted-tbn0.gstatic.com/images?q=tbn%3AANd9GcRg_aw3S0_5mjDxT3i3AFIU1McvXasyjp7wlg&usqp=CAU - AT: C:\\Qurantine\\Blog\\WebScrapping\\Data\\                                                                                                                                                    46.jpg\n",
      "SAVED - https://www.goodfreephotos.com/albums/animals/mammals/bison-by-the-car.jpg - AT: C:\\Qurantine\\Blog\\WebScrapping\\Data\\                                                                                                                                                    47.jpg\n",
      "SAVED - https://encrypted-tbn0.gstatic.com/images?q=tbn%3AANd9GcTTS8qsN8UpvbS6gEU5mlNkbURxn4hfiYL_Pw&usqp=CAU - AT: C:\\Qurantine\\Blog\\WebScrapping\\Data\\                                                                                                                                                    48.jpg\n",
      "SAVED - https://p1.piqsels.com/preview/541/601/201/mercedes-benz-car-slk-transport-auto-mercedes.jpg - AT: C:\\Qurantine\\Blog\\WebScrapping\\Data\\                                                                                                                                                    49.jpg\n",
      "SAVED - https://encrypted-tbn0.gstatic.com/images?q=tbn%3AANd9GcReG7Vpj-vjuJ6bkejdIi776qp-uU0PFM6zLA&usqp=CAU - AT: C:\\Qurantine\\Blog\\WebScrapping\\Data\\                                                                                                                                                    50.jpg\n",
      "SAVED - https://libreshot.com/wp-content/uploads/2016/04/car-engine-1.jpg - AT: C:\\Qurantine\\Blog\\WebScrapping\\Data\\                                                                                                                                                    51.jpg\n",
      "SAVED - https://encrypted-tbn0.gstatic.com/images?q=tbn%3AANd9GcQuK0NYaACLdk2zk0wxuK5ovyi5KcJXkA8FbQ&usqp=CAU - AT: C:\\Qurantine\\Blog\\WebScrapping\\Data\\                                                                                                                                                    52.jpg\n",
      "SAVED - https://c1.peakpx.com/wallpaper/216/122/382/oldtimer-vintage-car-classic-car-wallpaper-preview.jpg - AT: C:\\Qurantine\\Blog\\WebScrapping\\Data\\                                                                                                                                                    53.jpg\n",
      "ERROR - COULD NOT SAVE https://www.publicdomainpictures.net/pictures/30000/velka/traveling-by-car.jpg - cannot identify image file <_io.BytesIO object at 0x0000019774D53EE8>\n",
      "SAVED - https://encrypted-tbn0.gstatic.com/images?q=tbn%3AANd9GcSkwbGX744A72USnenl554FGTbL02CDJocayA&usqp=CAU - AT: C:\\Qurantine\\Blog\\WebScrapping\\Data\\                                                                                                                                                    55.jpg\n",
      "SAVED - https://encrypted-tbn0.gstatic.com/images?q=tbn%3AANd9GcSBhltKouRQOczPpBK6Sq3Tzc1_OUrleWmFKw&usqp=CAU - AT: C:\\Qurantine\\Blog\\WebScrapping\\Data\\                                                                                                                                                    56.jpg\n",
      "SAVED - https://encrypted-tbn0.gstatic.com/images?q=tbn%3AANd9GcR4lgk8CFJFpxuT1Y0ly_UtGBFXQl0NjDIxxg&usqp=CAU - AT: C:\\Qurantine\\Blog\\WebScrapping\\Data\\                                                                                                                                                    57.jpg\n",
      "ERROR - COULD NOT SAVE https://svgsilh.com/svg/151962.svg - cannot identify image file <_io.BytesIO object at 0x000001977638CEE8>\n",
      "SAVED - https://live.staticflickr.com/7023/6767443359_186c131bd9_b.jpg - AT: C:\\Qurantine\\Blog\\WebScrapping\\Data\\                                                                                                                                                    59.jpg\n",
      "SAVED - https://p0.pikist.com/photos/885/550/car-automobile-former-old-car-old-cars-vehicle-retro-auto-old.jpg - AT: C:\\Qurantine\\Blog\\WebScrapping\\Data\\                                                                                                                                                    60.jpg\n",
      "SAVED - https://upload.wikimedia.org/wikipedia/commons/2/21/%D0%A1%D0%BE%D0%BB%D0%B8%D0%BA_%28cropped%29.jpg - AT: C:\\Qurantine\\Blog\\WebScrapping\\Data\\                                                                                                                                                    61.jpg\n",
      "SAVED - https://i2.pickpik.com/photos/303/922/420/car-engine-prius-c-motor-car-preview.jpg - AT: C:\\Qurantine\\Blog\\WebScrapping\\Data\\                                                                                                                                                    62.jpg\n",
      "SAVED - https://live.staticflickr.com/5592/15104006386_1bf6bfe96a_b.jpg - AT: C:\\Qurantine\\Blog\\WebScrapping\\Data\\                                                                                                                                                    63.jpg\n",
      "SAVED - https://c0.wallpaperflare.com/preview/920/851/767/portrait-car-colour-man.jpg - AT: C:\\Qurantine\\Blog\\WebScrapping\\Data\\                                                                                                                                                    64.jpg\n",
      "ERROR - COULD NOT SAVE https://www.publicdomainpictures.net/pictures/210000/velka/toy-bmw-car-dashboard.jpg - cannot identify image file <_io.BytesIO object at 0x00000197752558E8>\n",
      "SAVED - https://encrypted-tbn0.gstatic.com/images?q=tbn%3AANd9GcQ0DkhDVGAOI2idbOjU17gOm3HWyecvjRsd6A&usqp=CAU - AT: C:\\Qurantine\\Blog\\WebScrapping\\Data\\                                                                                                                                                    66.jpg\n",
      "SAVED - https://upload.wikimedia.org/wikipedia/commons/f/f1/Delhi_Police_car_All_Women_PCR_vehicle_Innova.jpg - AT: C:\\Qurantine\\Blog\\WebScrapping\\Data\\                                                                                                                                                    67.jpg\n",
      "SAVED - https://p0.pikrepo.com/preview/362/413/black-and-silver-car-steering-wheel.jpg - AT: C:\\Qurantine\\Blog\\WebScrapping\\Data\\                                                                                                                                                    68.jpg\n",
      "SAVED - https://encrypted-tbn0.gstatic.com/images?q=tbn%3AANd9GcSzdMcObdV1W-ZWQybQQ9SnZzl9Zh33TjnaOw&usqp=CAU - AT: C:\\Qurantine\\Blog\\WebScrapping\\Data\\                                                                                                                                                    69.jpg\n",
      "SAVED - https://encrypted-tbn0.gstatic.com/images?q=tbn%3AANd9GcR5ysj4_Ci-Iw_4SbSY8hGikwxjK6pDGGXwdw&usqp=CAU - AT: C:\\Qurantine\\Blog\\WebScrapping\\Data\\                                                                                                                                                    70.jpg\n",
      "SAVED - https://live.staticflickr.com/3001/3047006581_1eec7f647d_b.jpg - AT: C:\\Qurantine\\Blog\\WebScrapping\\Data\\                                                                                                                                                    71.jpg\n",
      "SAVED - https://p0.pikist.com/photos/165/881/mini-car-close-up-sunny-cars-car-travel-construction.jpg - AT: C:\\Qurantine\\Blog\\WebScrapping\\Data\\                                                                                                                                                    72.jpg\n",
      "SAVED - https://encrypted-tbn0.gstatic.com/images?q=tbn%3AANd9GcT7itlGwyoaqggvxZFNFJ5mJMsN4zZMy9Tjog&usqp=CAU - AT: C:\\Qurantine\\Blog\\WebScrapping\\Data\\                                                                                                                                                    73.jpg\n",
      "SAVED - https://storage.needpix.com/rsynced_images/fast-sport-car-14661687820c7.jpg - AT: C:\\Qurantine\\Blog\\WebScrapping\\Data\\                                                                                                                                                    74.jpg\n",
      "SAVED - https://p1.piqsels.com/preview/950/761/136/car-concept-vehicle-auto-speed-transportation.jpg - AT: C:\\Qurantine\\Blog\\WebScrapping\\Data\\                                                                                                                                                    75.jpg\n",
      "SAVED - https://encrypted-tbn0.gstatic.com/images?q=tbn%3AANd9GcR1VKiy0pIwwQtZ-O4k70WxJUNXqYb-xUpAvg&usqp=CAU - AT: C:\\Qurantine\\Blog\\WebScrapping\\Data\\                                                                                                                                                    76.jpg\n",
      "SAVED - https://cdn.pixabay.com/photo/2012/04/12/23/47/car-30984_960_720.png - AT: C:\\Qurantine\\Blog\\WebScrapping\\Data\\                                                                                                                                                    77.jpg\n",
      "SAVED - https://p0.pxfuel.com/preview/142/59/715/car-concept-vehicle-auto.jpg - AT: C:\\Qurantine\\Blog\\WebScrapping\\Data\\                                                                                                                                                    78.jpg\n",
      "SAVED - https://upload.wikimedia.org/wikipedia/commons/4/4e/DIG_car.JPG - AT: C:\\Qurantine\\Blog\\WebScrapping\\Data\\                                                                                                                                                    79.jpg\n",
      "SAVED - https://images.pexels.com/photos/376729/pexels-photo-376729.jpeg?cs=srgb&dl=adult-auto-automobile-blur-376729.jpg&fm=jpg - AT: C:\\Qurantine\\Blog\\WebScrapping\\Data\\                                                                                                                                                    80.jpg\n",
      "SAVED - https://freesvg.org/img/green-car.png - AT: C:\\Qurantine\\Blog\\WebScrapping\\Data\\                                                                                                                                                    81.jpg\n",
      "SAVED - https://libreshot.com/wp-content/uploads/2018/01/luxury-car-close-up.jpg - AT: C:\\Qurantine\\Blog\\WebScrapping\\Data\\                                                                                                                                                    82.jpg\n",
      "SAVED - https://upload.wikimedia.org/wikipedia/commons/b/b3/HK_night_MM_KSI_Car.JPG - AT: C:\\Qurantine\\Blog\\WebScrapping\\Data\\                                                                                                                                                    83.jpg\n",
      "SAVED - https://encrypted-tbn0.gstatic.com/images?q=tbn%3AANd9GcQCfY4YHSyiBIYGeEV0IRynofG_K__W14N4xQ&usqp=CAU - AT: C:\\Qurantine\\Blog\\WebScrapping\\Data\\                                                                                                                                                    84.jpg\n",
      "SAVED - https://cdn.pixabay.com/photo/2017/09/09/18/24/driving-2732934_960_720.jpg - AT: C:\\Qurantine\\Blog\\WebScrapping\\Data\\                                                                                                                                                    85.jpg\n",
      "SAVED - https://c1.wallpaperflare.com/preview/50/659/614/car-man-drive-watch.jpg - AT: C:\\Qurantine\\Blog\\WebScrapping\\Data\\                                                                                                                                                    86.jpg\n",
      "SAVED - https://encrypted-tbn0.gstatic.com/images?q=tbn%3AANd9GcQCYvPXi3hKxWZVWo9t3SXAHpuAmV5_VS6wdw&usqp=CAU - AT: C:\\Qurantine\\Blog\\WebScrapping\\Data\\                                                                                                                                                    87.jpg\n",
      "SAVED - https://encrypted-tbn0.gstatic.com/images?q=tbn%3AANd9GcTZ24VoBlTG1FjdGIRZ2k0f9f0dNLFaIxglEA&usqp=CAU - AT: C:\\Qurantine\\Blog\\WebScrapping\\Data\\                                                                                                                                                    88.jpg\n",
      "SAVED - https://cdn.pixabay.com/photo/2019/12/31/20/58/car-4732653_960_720.png - AT: C:\\Qurantine\\Blog\\WebScrapping\\Data\\                                                                                                                                                    89.jpg\n",
      "SAVED - https://encrypted-tbn0.gstatic.com/images?q=tbn%3AANd9GcTts-uqXmJ_55jcrrSZ1XYxdfCO5jdHhVnxbw&usqp=CAU - AT: C:\\Qurantine\\Blog\\WebScrapping\\Data\\                                                                                                                                                    90.jpg\n",
      "SAVED - https://encrypted-tbn0.gstatic.com/images?q=tbn%3AANd9GcQZrsc2VwrrekrS0BuAmrPqvdcMwh33OxYFrw&usqp=CAU - AT: C:\\Qurantine\\Blog\\WebScrapping\\Data\\                                                                                                                                                    91.jpg\n",
      "SAVED - https://p1.pxfuel.com/preview/191/733/313/car-concept-vehicle-auto-speed-transportation.jpg - AT: C:\\Qurantine\\Blog\\WebScrapping\\Data\\                                                                                                                                                    92.jpg\n",
      "SAVED - https://media.defense.gov/2020/Feb/18/2002250720/780/780/0/200218-F-IO108-001.JPG - AT: C:\\Qurantine\\Blog\\WebScrapping\\Data\\                                                                                                                                                    93.jpg\n",
      "ERROR - COULD NOT SAVE https://www.publicdomainpictures.net/pictures/270000/nahled/buying-new-car.jpg - cannot identify image file <_io.BytesIO object at 0x00000197763AE0A8>\n",
      "SAVED - https://encrypted-tbn0.gstatic.com/images?q=tbn%3AANd9GcQWz7TN8F6N9_Zsep8Xu018wrPCiunyTkuQtg&usqp=CAU - AT: C:\\Qurantine\\Blog\\WebScrapping\\Data\\                                                                                                                                                    95.jpg\n",
      "SAVED - https://encrypted-tbn0.gstatic.com/images?q=tbn%3AANd9GcTNEC4Nlo50FN4iHBtRhUZO67UnqOz-hR3vkQ&usqp=CAU - AT: C:\\Qurantine\\Blog\\WebScrapping\\Data\\                                                                                                                                                    96.jpg\n",
      "SAVED - https://storage.needpix.com/rsynced_images/burnt-car-2698677_1280.jpg - AT: C:\\Qurantine\\Blog\\WebScrapping\\Data\\                                                                                                                                                    97.jpg\n",
      "SAVED - https://encrypted-tbn0.gstatic.com/images?q=tbn%3AANd9GcTtiITTsn-K0r381toIYj8jfoihUWj4xNv6IA&usqp=CAU - AT: C:\\Qurantine\\Blog\\WebScrapping\\Data\\                                                                                                                                                    98.jpg\n",
      "SAVED - https://encrypted-tbn0.gstatic.com/images?q=tbn%3AANd9GcTlGkBbC9mXdyEVwkeGB-Ignnxano3tEmxC3Q&usqp=CAU - AT: C:\\Qurantine\\Blog\\WebScrapping\\Data\\                                                                                                                                                    99.jpg\n",
      "SAVED - https://encrypted-tbn0.gstatic.com/images?q=tbn%3AANd9GcQVXmDAFRMeDBkKXjHq4M7NKy37wudVBHcgAw&usqp=CAU - AT: C:\\Qurantine\\Blog\\WebScrapping\\Data\\                                                                                                                                                   100.jpg\n",
      "SAVED - https://encrypted-tbn0.gstatic.com/images?q=tbn%3AANd9GcTCTHQgOiGylUcvzgcuAi7prBOIrjhsx1qaxA&usqp=CAU - AT: C:\\Qurantine\\Blog\\WebScrapping\\Data\\                                                                                                                                                   101.jpg\n",
      "ERROR - COULD NOT SAVE https://www.publicdomainpictures.net/pictures/330000/velka/red-toyota-car.jpg - cannot identify image file <_io.BytesIO object at 0x00000197751D4DC8>\n",
      "SAVED - https://encrypted-tbn0.gstatic.com/images?q=tbn%3AANd9GcSeLBgCt5juPEAy83RGnnFS13WGXtsn6i96Iw&usqp=CAU - AT: C:\\Qurantine\\Blog\\WebScrapping\\Data\\                                                                                                                                                   103.jpg\n",
      "SAVED - https://encrypted-tbn0.gstatic.com/images?q=tbn%3AANd9GcQ8oixcwC39fJUjmp0EQZIbskDc5-axrY6AVw&usqp=CAU - AT: C:\\Qurantine\\Blog\\WebScrapping\\Data\\                                                                                                                                                   104.jpg\n",
      "SAVED - https://encrypted-tbn0.gstatic.com/images?q=tbn%3AANd9GcSqaaR4smjJ8vN3D04A-5pwT8Ece3uAuX4Ppg&usqp=CAU - AT: C:\\Qurantine\\Blog\\WebScrapping\\Data\\                                                                                                                                                   105.jpg\n",
      "SAVED - https://p0.pikrepo.com/preview/138/657/grayscale-photo-of-classic-car.jpg - AT: C:\\Qurantine\\Blog\\WebScrapping\\Data\\                                                                                                                                                   106.jpg\n",
      "SAVED - https://cdn.pixabay.com/photo/2019/12/10/17/09/car-4686235_960_720.png - AT: C:\\Qurantine\\Blog\\WebScrapping\\Data\\                                                                                                                                                   107.jpg\n",
      "SAVED - https://www.princetravelskolkata.com/images/business-cars-480-320.jpg - AT: C:\\Qurantine\\Blog\\WebScrapping\\Data\\                                                                                                                                                   108.jpg\n",
      "SAVED - https://encrypted-tbn0.gstatic.com/images?q=tbn%3AANd9GcRW4fu0gzVwZNBZLRXomvPkbmM7JezSEwldjA&usqp=CAU - AT: C:\\Qurantine\\Blog\\WebScrapping\\Data\\                                                                                                                                                   109.jpg\n",
      "SAVED - https://encrypted-tbn0.gstatic.com/images?q=tbn%3AANd9GcR1kQCJJYf77xCItOq5zRoT_e4R-GR5Z0uv0g&usqp=CAU - AT: C:\\Qurantine\\Blog\\WebScrapping\\Data\\                                                                                                                                                   110.jpg\n",
      "SAVED - https://encrypted-tbn0.gstatic.com/images?q=tbn%3AANd9GcTPv4rdaGV65pEieKsJNgBb-21CQNBT6C0diw&usqp=CAU - AT: C:\\Qurantine\\Blog\\WebScrapping\\Data\\                                                                                                                                                   111.jpg\n",
      "SAVED - https://upload.wikimedia.org/wikipedia/commons/d/d5/Imperial_Processional_Car.jpg - AT: C:\\Qurantine\\Blog\\WebScrapping\\Data\\                                                                                                                                                   112.jpg\n",
      "SAVED - https://upload.wikimedia.org/wikipedia/commons/8/8c/Singapore_Prime_Minister_Car_2014.jpg - AT: C:\\Qurantine\\Blog\\WebScrapping\\Data\\                                                                                                                                                   113.jpg\n",
      "SAVED - https://encrypted-tbn0.gstatic.com/images?q=tbn%3AANd9GcQhRT1zYEGpo4G1uqZKELRzI8QwuXVIwuTu8A&usqp=CAU - AT: C:\\Qurantine\\Blog\\WebScrapping\\Data\\                                                                                                                                                   114.jpg\n",
      "ERROR - COULD NOT SAVE https://www.publicdomainpictures.net/pictures/20000/velka/classic-gangster-car.jpg - cannot identify image file <_io.BytesIO object at 0x0000019775255A08>\n",
      "SAVED - https://encrypted-tbn0.gstatic.com/images?q=tbn%3AANd9GcR9SPoylRIdvunW7azr4xAOQ-EQKFCrhSPrEg&usqp=CAU - AT: C:\\Qurantine\\Blog\\WebScrapping\\Data\\                                                                                                                                                   116.jpg\n",
      "SAVED - https://p1.piqsels.com/preview/901/638/390/bugatti-divo-sports-car-auto-automotive-classic.jpg - AT: C:\\Qurantine\\Blog\\WebScrapping\\Data\\                                                                                                                                                   117.jpg\n",
      "SAVED - https://i0.hippopx.com/photos/382/759/654/cobra-sports-car-sports-car-car-cobra-preview.jpg - AT: C:\\Qurantine\\Blog\\WebScrapping\\Data\\                                                                                                                                                   118.jpg\n",
      "SAVED - https://encrypted-tbn0.gstatic.com/images?q=tbn%3AANd9GcSuLeoJeb9Z-jwTXQj-Ct-rcB_40BTYT4cvAg&usqp=CAU - AT: C:\\Qurantine\\Blog\\WebScrapping\\Data\\                                                                                                                                                   119.jpg\n",
      "SAVED - https://encrypted-tbn0.gstatic.com/images?q=tbn%3AANd9GcQALtHBNBN5B8ODWUHfFuemSq0X8gfmFexIvQ&usqp=CAU - AT: C:\\Qurantine\\Blog\\WebScrapping\\Data\\                                                                                                                                                   120.jpg\n",
      "SAVED - https://encrypted-tbn0.gstatic.com/images?q=tbn%3AANd9GcRD1kQOQa0deODrOudkowlUQeaeF8Wv17DXZQ&usqp=CAU - AT: C:\\Qurantine\\Blog\\WebScrapping\\Data\\                                                                                                                                                   121.jpg\n",
      "SAVED - https://encrypted-tbn0.gstatic.com/images?q=tbn%3AANd9GcTLIK-K7nBD9oGP0XCmGqbyr-4gegDvqf6MvA&usqp=CAU - AT: C:\\Qurantine\\Blog\\WebScrapping\\Data\\                                                                                                                                                   122.jpg\n",
      "SAVED - https://encrypted-tbn0.gstatic.com/images?q=tbn%3AANd9GcT5KxhJK3S5ZlNn2-yp6vkkJOxZ40Jk7iTbzQ&usqp=CAU - AT: C:\\Qurantine\\Blog\\WebScrapping\\Data\\                                                                                                                                                   123.jpg\n",
      "SAVED - https://encrypted-tbn0.gstatic.com/images?q=tbn%3AANd9GcTAzNSl5OPih01K6bPSkunCuRzwtsapoVhU3Q&usqp=CAU - AT: C:\\Qurantine\\Blog\\WebScrapping\\Data\\                                                                                                                                                   124.jpg\n",
      "ERROR - COULD NOT SAVE https://www.publicdomainpictures.net/pictures/310000/velka/porsche-4-door-car.jpg - cannot identify image file <_io.BytesIO object at 0x0000019776445D08>\n",
      "SAVED - https://encrypted-tbn0.gstatic.com/images?q=tbn%3AANd9GcR4WsbrIt7BIT_MhYW9cn8VmVPpGpYsqZRBlw&usqp=CAU - AT: C:\\Qurantine\\Blog\\WebScrapping\\Data\\                                                                                                                                                   126.jpg\n",
      "SAVED - https://encrypted-tbn0.gstatic.com/images?q=tbn%3AANd9GcS41e6tSDbuenUBcGTbFxDGS7wf0ep0EckHKg&usqp=CAU - AT: C:\\Qurantine\\Blog\\WebScrapping\\Data\\                                                                                                                                                   127.jpg\n",
      "SAVED - https://p0.pikist.com/photos/847/769/aston-martin-vanquish-black-wheel-v12-fast-speed-motor-car-automotive.jpg - AT: C:\\Qurantine\\Blog\\WebScrapping\\Data\\                                                                                                                                                   128.jpg\n",
      "SAVED - https://encrypted-tbn0.gstatic.com/images?q=tbn%3AANd9GcT-PVHC9yksInvYOkW6upAcHygoVo0XgG-H8g&usqp=CAU - AT: C:\\Qurantine\\Blog\\WebScrapping\\Data\\                                                                                                                                                   129.jpg\n",
      "SAVED - https://encrypted-tbn0.gstatic.com/images?q=tbn%3AANd9GcTheWSVezR0NoEMad0NrcEiOIlsbGZtWck7sg&usqp=CAU - AT: C:\\Qurantine\\Blog\\WebScrapping\\Data\\                                                                                                                                                   130.jpg\n",
      "SAVED - https://freesvg.org/img/1514496714.png - AT: C:\\Qurantine\\Blog\\WebScrapping\\Data\\                                                                                                                                                   131.jpg\n",
      "SAVED - https://upload.wikimedia.org/wikipedia/commons/7/7a/Plandome_FD_old_red_car_jeh.jpg - AT: C:\\Qurantine\\Blog\\WebScrapping\\Data\\                                                                                                                                                   132.jpg\n",
      "SAVED - https://encrypted-tbn0.gstatic.com/images?q=tbn%3AANd9GcQITr3hrV-qlDta9_Tvf3bBJwXTPWuDfKXhXg&usqp=CAU - AT: C:\\Qurantine\\Blog\\WebScrapping\\Data\\                                                                                                                                                   133.jpg\n",
      "SAVED - https://storage.needpix.com/rsynced_images/white-lamborghini-car-tail-light.jpg - AT: C:\\Qurantine\\Blog\\WebScrapping\\Data\\                                                                                                                                                   134.jpg\n",
      "SAVED - https://storage.needpix.com/rsynced_images/car-3866116_1280.jpg - AT: C:\\Qurantine\\Blog\\WebScrapping\\Data\\                                                                                                                                                   135.jpg\n",
      "SAVED - https://encrypted-tbn0.gstatic.com/images?q=tbn%3AANd9GcSMLFaZ5LTU2c4jC8uRIAD-ip80tp2k7LI0gg&usqp=CAU - AT: C:\\Qurantine\\Blog\\WebScrapping\\Data\\                                                                                                                                                   136.jpg\n",
      "SAVED - https://encrypted-tbn0.gstatic.com/images?q=tbn%3AANd9GcSDtB0IGdrQUcJCvwPU7E0CSX36wybCqDysUQ&usqp=CAU - AT: C:\\Qurantine\\Blog\\WebScrapping\\Data\\                                                                                                                                                   137.jpg\n",
      "SAVED - https://encrypted-tbn0.gstatic.com/images?q=tbn%3AANd9GcSaxbc9A-K4Lew35MBq2fjAdMDACyq_P5aZCQ&usqp=CAU - AT: C:\\Qurantine\\Blog\\WebScrapping\\Data\\                                                                                                                                                   138.jpg\n",
      "SAVED - https://cdn.pixabay.com/photo/2019/11/02/19/24/car-4597207_960_720.jpg - AT: C:\\Qurantine\\Blog\\WebScrapping\\Data\\                                                                                                                                                   139.jpg\n",
      "SAVED - https://encrypted-tbn0.gstatic.com/images?q=tbn%3AANd9GcSsXYkyYtSL-bRZaMyNteMNy4pVgCcrS7dPSw&usqp=CAU - AT: C:\\Qurantine\\Blog\\WebScrapping\\Data\\                                                                                                                                                   140.jpg\n",
      "SAVED - https://encrypted-tbn0.gstatic.com/images?q=tbn%3AANd9GcQ7okoActcvxfa77XQab-OXSe9qHJiZuAFnEg&usqp=CAU - AT: C:\\Qurantine\\Blog\\WebScrapping\\Data\\                                                                                                                                                   141.jpg\n",
      "SAVED - https://encrypted-tbn0.gstatic.com/images?q=tbn%3AANd9GcTgEPD7mYlmSdmJxI8Vy0bqAcPaeJmPHuy9ow&usqp=CAU - AT: C:\\Qurantine\\Blog\\WebScrapping\\Data\\                                                                                                                                                   142.jpg\n",
      "SAVED - https://live.staticflickr.com/5513/31026694072_86ae6ec605_b.jpg - AT: C:\\Qurantine\\Blog\\WebScrapping\\Data\\                                                                                                                                                   143.jpg\n",
      "SAVED - https://encrypted-tbn0.gstatic.com/images?q=tbn%3AANd9GcSQQS_mAH-Udbh9qdBnZZPOmY9bi5A9GHMVNQ&usqp=CAU - AT: C:\\Qurantine\\Blog\\WebScrapping\\Data\\                                                                                                                                                   144.jpg\n",
      "SAVED - https://p1.pxfuel.com/preview/616/102/489/vw-beetle-tuning-volkswagen-cars-type-1-beetle-old-cars-volkswagen-ladybug.jpg - AT: C:\\Qurantine\\Blog\\WebScrapping\\Data\\                                                                                                                                                   145.jpg\n",
      "SAVED - https://i1.pickpik.com/photos/870/172/966/people-car-man-night-preview.jpg - AT: C:\\Qurantine\\Blog\\WebScrapping\\Data\\                                                                                                                                                   146.jpg\n",
      "SAVED - https://encrypted-tbn0.gstatic.com/images?q=tbn%3AANd9GcSaxf5nCiG626aUdilIpFGQp6r_SGoMYAeNjw&usqp=CAU - AT: C:\\Qurantine\\Blog\\WebScrapping\\Data\\                                                                                                                                                   147.jpg\n",
      "SAVED - https://freesvg.org/img/sylwetka-syrena_110.png - AT: C:\\Qurantine\\Blog\\WebScrapping\\Data\\                                                                                                                                                   148.jpg\n",
      "SAVED - https://libreshot.com/wp-content/uploads/2017/11/red-super-sport-car.jpg - AT: C:\\Qurantine\\Blog\\WebScrapping\\Data\\                                                                                                                                                   149.jpg\n",
      "SAVED - https://c0.wallpaperflare.com/preview/90/308/890/black-bmw-car.jpg - AT: C:\\Qurantine\\Blog\\WebScrapping\\Data\\                                                                                                                                                   150.jpg\n",
      "SAVED - https://encrypted-tbn0.gstatic.com/images?q=tbn%3AANd9GcR7Kgbt2tyW6A4s50Mqew1V_6YcirtiK5O63g&usqp=CAU - AT: C:\\Qurantine\\Blog\\WebScrapping\\Data\\                                                                                                                                                   151.jpg\n",
      "SAVED - https://encrypted-tbn0.gstatic.com/images?q=tbn%3AANd9GcRdnvkm39MSySic8CCbQWp7DIIGjQD2pEZI2w&usqp=CAU - AT: C:\\Qurantine\\Blog\\WebScrapping\\Data\\                                                                                                                                                   152.jpg\n",
      "SAVED - https://encrypted-tbn0.gstatic.com/images?q=tbn%3AANd9GcQzaqzOpFBZR1CYpJTJhw7xiKLV-BN_2Dkzjw&usqp=CAU - AT: C:\\Qurantine\\Blog\\WebScrapping\\Data\\                                                                                                                                                   153.jpg\n",
      "SAVED - https://encrypted-tbn0.gstatic.com/images?q=tbn%3AANd9GcS-goGgpaxCgFZWTS2YJ_MYfdcfTlZGeGTkNw&usqp=CAU - AT: C:\\Qurantine\\Blog\\WebScrapping\\Data\\                                                                                                                                                   154.jpg\n",
      "SAVED - https://p0.pikist.com/photos/793/672/car-porsche-e-hybrid-auto-show-zagreb-2018-modern-technology-power-sport-public-show.jpg - AT: C:\\Qurantine\\Blog\\WebScrapping\\Data\\                                                                                                                                                   155.jpg\n"
     ]
    }
   ],
   "source": [
    "os.chdir('C:/Qurantine/Blog/WebScrapping/Dataset1')\n",
    "baseDir=os.getcwd()\n",
    "\n",
    "for i, url in enumerate(img_urls):\n",
    "    file_name = f\"{i:150}.jpg\"    \n",
    "    try:\n",
    "        image_content = requests.get(url).content\n",
    "\n",
    "    except Exception as e:\n",
    "        print(f\"ERROR - COULD NOT DOWNLOAD {url} - {e}\")\n",
    "\n",
    "    try:\n",
    "        image_file = io.BytesIO(image_content)\n",
    "        image = Image.open(image_file).convert('RGB')\n",
    "        \n",
    "        file_path = os.path.join(baseDir, file_name)\n",
    "        \n",
    "        with open(file_path, 'wb') as f:\n",
    "            image.save(f, \"JPEG\", quality=85)\n",
    "        print(f\"SAVED - {url} - AT: {file_path}\")\n",
    "    except Exception as e:\n",
    "        print(f\"ERROR - COULD NOT SAVE {url} - {e}\")"
   ]
  },
  {
   "cell_type": "markdown",
   "metadata": {},
   "source": [
    "#### Now finally you have extracted the image for your project 😀\n",
    "\n",
    "## Note:- Once you have written proper code then the browser is not important you can collect data without browser, Which is called headless browser window, hence replace the following code with the previous one."
   ]
  },
  {
   "cell_type": "markdown",
   "metadata": {},
   "source": [
    "#                  Headless chrome browser "
   ]
  },
  {
   "cell_type": "code",
   "execution_count": null,
   "metadata": {},
   "outputs": [],
   "source": [
    "#Headless chrome browser\n",
    "from selenium import webdriver \n",
    "opts = webdriver.ChromeOptions()\n",
    "opts.headless =True\n",
    "driver =webdriver.Chrome(ChromeDriverManager().install())\n"
   ]
  },
  {
   "cell_type": "markdown",
   "metadata": {},
   "source": [
    "### In this case browser will not run in background which is very helpful."
   ]
  },
  {
   "cell_type": "code",
   "execution_count": null,
   "metadata": {},
   "outputs": [],
   "source": []
  }
 ],
 "metadata": {
  "kernelspec": {
   "display_name": "Python 3",
   "language": "python",
   "name": "python3"
  },
  "language_info": {
   "codemirror_mode": {
    "name": "ipython",
    "version": 3
   },
   "file_extension": ".py",
   "mimetype": "text/x-python",
   "name": "python",
   "nbconvert_exporter": "python",
   "pygments_lexer": "ipython3",
   "version": "3.7.6"
  }
 },
 "nbformat": 4,
 "nbformat_minor": 4
}
